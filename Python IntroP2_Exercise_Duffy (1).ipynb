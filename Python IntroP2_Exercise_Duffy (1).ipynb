{
 "cells": [
  {
   "cell_type": "code",
   "execution_count": null,
   "metadata": {},
   "outputs": [],
   "source": [
    "# Q1. Complete the equation\n",
    "def my_function():\n",
    "  print(\"I am from \" + city)\n",
    "my_function() # output should be \"I am from Denver\""
   ]
  },
  {
   "cell_type": "code",
   "execution_count": 18,
   "metadata": {},
   "outputs": [
    {
     "name": "stdout",
     "output_type": "stream",
     "text": [
      "I am from Denver\n"
     ]
    }
   ],
   "source": [
    "def my_function(city=\"Denver\"):\n",
    "  print(\"I am from \" + city)\n",
    "my_function()"
   ]
  },
  {
   "cell_type": "code",
   "execution_count": 60,
   "metadata": {},
   "outputs": [
    {
     "name": "stdout",
     "output_type": "stream",
     "text": [
      "Blue\n",
      "Green\n",
      "Red\n"
     ]
    }
   ],
   "source": [
    "# Q2. Print our item in list\n",
    "color_vals = [\"Blue\",\"Green\",\"Red\"]\n",
    "for color in color_vals:\n",
    "  print(color)# this should return a color each time"
   ]
  },
  {
   "cell_type": "code",
   "execution_count": 25,
   "metadata": {},
   "outputs": [
    {
     "name": "stdout",
     "output_type": "stream",
     "text": [
      "Blue\n",
      "Green\n",
      "Red\n"
     ]
    }
   ],
   "source": [
    "color_vals = [\"Blue\",\"Green\",\"Red\"]\n",
    "print(*color_vals, sep = \"\\n\")"
   ]
  },
  {
   "cell_type": "code",
   "execution_count": null,
   "metadata": {},
   "outputs": [],
   "source": [
    "# Q3,  Write a Python function to check if the result of 9/3 is an integer or float"
   ]
  },
  {
   "cell_type": "code",
   "execution_count": 106,
   "metadata": {
    "scrolled": true
   },
   "outputs": [
    {
     "name": "stdout",
     "output_type": "stream",
     "text": [
      "<class 'str'>\n",
      "<class 'float'>\n",
      "9/3 is a float!\n"
     ]
    }
   ],
   "source": [
    "i = '9/3'\n",
    "f = 9/3\n",
    "print(type(i))\n",
    "print(type(f))\n",
    "\n",
    "print(\"9/3 is a float!\")"
   ]
  },
  {
   "cell_type": "code",
   "execution_count": null,
   "metadata": {},
   "outputs": [],
   "source": [
    "# Q4. Sort brands by countries of origin\n",
    "# You have an array of cars = [\"Chevolet\",\"Jeep\",\"Ford\",\"Nissan\",\"Toyota\",\"Honda\",\"Hyundai\",\"Kia\"]\n",
    "# hint: note the order of cars in the list\n",
    "# iterate over the array and create three separate arrays based on the countries of origin \n",
    "# and append an additional one to the array\n",
    "# e.g., korean_cars = [\"Hyundai\",\"Kia\",\"Renault Samsung\"], american_cars = [...], japanese_cars = [...]"
   ]
  },
  {
   "cell_type": "code",
   "execution_count": 43,
   "metadata": {},
   "outputs": [
    {
     "ename": "IndentationError",
     "evalue": "expected an indented block (<ipython-input-43-39e4c581743a>, line 9)",
     "output_type": "error",
     "traceback": [
      "\u001b[0;36m  File \u001b[0;32m\"<ipython-input-43-39e4c581743a>\"\u001b[0;36m, line \u001b[0;32m9\u001b[0m\n\u001b[0;31m    elif 2<i <=5:\u001b[0m\n\u001b[0m       ^\u001b[0m\n\u001b[0;31mIndentationError\u001b[0m\u001b[0;31m:\u001b[0m expected an indented block\n"
     ]
    }
   ],
   "source": [
    "cars = [\"Chevolet\",\"Jeep\",\"Ford\",\"Nissan\",\"Toyota\",\"Honda\",\"Hyundai\",\"Kia\"]\n",
    "i = 0 # start from the first one in the list\n",
    "korean_cars = [\"Hyundai\",\"Kia\"]\n",
    "american_cars = [\"Chevolet\",\"Jeep\", \"Ford\",]\n",
    "japanese_cars = [\"Nissan\", \"Toyota\", \"Honda\"]\n",
    "for car in cars:\n",
    "    if i <= 2:\n",
    "        # append to list\n",
    "    elif 2<i <=5:\n",
    "        # append to list\n",
    "    else:\n",
    "        # append to list\n",
    "    i = i+1\n",
    "print(american_cars)\n",
    "print(japanese_cars)\n",
    "print(korean_cars)"
   ]
  },
  {
   "cell_type": "code",
   "execution_count": 54,
   "metadata": {},
   "outputs": [
    {
     "name": "stdout",
     "output_type": "stream",
     "text": [
      "Chevolet\n",
      "Jeep\n",
      "Ford\n",
      "Hyundai\n",
      "Kia\n",
      "Nissan\n",
      "Toyota\n",
      "Honda\n"
     ]
    }
   ],
   "source": [
    "\n",
    "american = [\"Chevolet\",\"Jeep\",\"Ford\"]\n",
    "for x in american:\n",
    "    print(x)\n",
    "korean = [\"Hyundai\",\"Kia\"]\n",
    "for x in korean:\n",
    "    print(x)\n",
    "japanese = [\"Nissan\", \"Toyota\", \"Honda\"]\n",
    "for x in japanese:\n",
    "    print(x)\n"
   ]
  },
  {
   "cell_type": "code",
   "execution_count": null,
   "metadata": {},
   "outputs": [],
   "source": [
    "# Q5. Detecting speeding violations\n",
    "# speed_list = [20,30,50,40,100,120,160,200],unit is kph\n",
    "# convert speed from kph to mph, 1 kph = 0.621371 mph\n",
    "# create a new array for speed(mph)> 50 mph using 'for' or 'while'"
   ]
  },
  {
   "cell_type": "code",
   "execution_count": null,
   "metadata": {},
   "outputs": [],
   "source": [
    "overspeed_list = []\n",
    "speed_list = [20,30,50,40,100,120,160,200]\n",
    "for speed_mph in speed_list:\n",
    "    speed_kph = # convert kph to mph\n",
    "    if speed_kph> :# what is the threshold value? 447.38712\n",
    "        overspeed_list.append() # append value to overspeed\n",
    "print(overspeed_list)"
   ]
  },
  {
   "cell_type": "code",
   "execution_count": 79,
   "metadata": {},
   "outputs": [
    {
     "name": "stdout",
     "output_type": "stream",
     "text": [
      "12.42742\n",
      "18.64113\n",
      "31.068550000000002\n",
      "24.85484\n",
      "62.137100000000004\n",
      "74.56452\n",
      "99.41936\n",
      "124.27420000000001\n"
     ]
    }
   ],
   "source": [
    "speed_list = [20,30,50,40,100,120,160,200]\n",
    "for speed in speed_list:\n",
    "    speed_new = speed*0.621371\n",
    "    print(speed_new)"
   ]
  },
  {
   "cell_type": "code",
   "execution_count": 104,
   "metadata": {
    "scrolled": true
   },
   "outputs": [
    {
     "data": {
      "text/plain": [
       "447.38712"
      ]
     },
     "execution_count": 104,
     "metadata": {},
     "output_type": "execute_result"
    }
   ],
   "source": [
    "a = [12.42742, 18.64113, 31.068550000000002, 24.85484, 62.137100000000004, 74.56452, 99.41936, 124.27420000000001]\n",
    "sum(a)"
   ]
  },
  {
   "cell_type": "code",
   "execution_count": 99,
   "metadata": {},
   "outputs": [
    {
     "ename": "TypeError",
     "evalue": "unorderable types: list() > float()",
     "output_type": "error",
     "traceback": [
      "\u001b[0;31m---------------------------------------------------------------------------\u001b[0m",
      "\u001b[0;31mTypeError\u001b[0m                                 Traceback (most recent call last)",
      "\u001b[0;32m<ipython-input-99-7d51e02d40a9>\u001b[0m in \u001b[0;36m<module>\u001b[0;34m()\u001b[0m\n\u001b[1;32m      3\u001b[0m \u001b[0;32mfor\u001b[0m \u001b[0mspeed_mph\u001b[0m \u001b[0;32min\u001b[0m \u001b[0mspeed_list\u001b[0m\u001b[0;34m:\u001b[0m\u001b[0;34m\u001b[0m\u001b[0m\n\u001b[1;32m      4\u001b[0m     \u001b[0mspeed_kph\u001b[0m \u001b[0;34m=\u001b[0m \u001b[0;34m[\u001b[0m\u001b[0;36m12.42742\u001b[0m\u001b[0;34m,\u001b[0m \u001b[0;36m18.64113\u001b[0m\u001b[0;34m,\u001b[0m \u001b[0;36m31.068550000000002\u001b[0m\u001b[0;34m,\u001b[0m \u001b[0;36m24.85484\u001b[0m\u001b[0;34m,\u001b[0m \u001b[0;36m62.137100000000004\u001b[0m\u001b[0;34m,\u001b[0m \u001b[0;36m74.56452\u001b[0m\u001b[0;34m,\u001b[0m \u001b[0;36m99.41936\u001b[0m\u001b[0;34m,\u001b[0m \u001b[0;36m124.27420000000001\u001b[0m\u001b[0;34m]\u001b[0m\u001b[0;34m\u001b[0m\u001b[0m\n\u001b[0;32m----> 5\u001b[0;31m     \u001b[0;32mif\u001b[0m \u001b[0mspeed_kph\u001b[0m \u001b[0;34m>\u001b[0m \u001b[0;36m447.38712\u001b[0m\u001b[0;34m:\u001b[0m\u001b[0;34m\u001b[0m\u001b[0m\n\u001b[0m\u001b[1;32m      6\u001b[0m         \u001b[0moverspeed_list\u001b[0m\u001b[0;34m.\u001b[0m\u001b[0mappend\u001b[0m\u001b[0;34m(\u001b[0m\u001b[0;36m447.38712\u001b[0m\u001b[0;34m)\u001b[0m\u001b[0;34m\u001b[0m\u001b[0m\n\u001b[1;32m      7\u001b[0m \u001b[0mprint\u001b[0m\u001b[0;34m(\u001b[0m\u001b[0moverspeed_list\u001b[0m\u001b[0;34m)\u001b[0m\u001b[0;34m\u001b[0m\u001b[0m\n",
      "\u001b[0;31mTypeError\u001b[0m: unorderable types: list() > float()"
     ]
    }
   ],
   "source": [
    "overspeed_list = []\n",
    "speed_list = [20,30,50,40,100,120,160,200]\n",
    "for speed_mph in speed_list:\n",
    "    speed_kph = [12.42742, 18.64113, 31.068550000000002, 24.85484, 62.137100000000004, 74.56452, 99.41936, 124.27420000000001]\n",
    "    if speed_kph > 447.38712:\n",
    "        overspeed_list.append(447.38712)\n",
    "print(overspeed_list)"
   ]
  },
  {
   "cell_type": "code",
   "execution_count": 16,
   "metadata": {},
   "outputs": [
    {
     "name": "stdout",
     "output_type": "stream",
     "text": [
      "b*20 is greater than a and c \n"
     ]
    }
   ],
   "source": [
    "# Q6. Complete the codes\n",
    "a = 10\n",
    "b = 200\n",
    "c = 250\n",
    "if b > a or b > c:\n",
    "    print(\"b*20 is greater than a and c \")\n",
    "if b < c and b < a:\n",
    "    print(\"b is smaller than c and a\")"
   ]
  },
  {
   "cell_type": "code",
   "execution_count": null,
   "metadata": {},
   "outputs": [],
   "source": [
    "# Q7. Create your own function\n",
    "# create a function that can convert Fahrenheit (°F) to Celsius (°C)\n",
    "# formular link https://www.rapidtables.com/convert/temperature/how-fahrenheit-to-celsius.html\n",
    "# convert Fahrenheit list [100,90,80,110,70] to a new list in celsius using 'for loop'"
   ]
  },
  {
   "cell_type": "code",
   "execution_count": 102,
   "metadata": {},
   "outputs": [
    {
     "name": "stdout",
     "output_type": "stream",
     "text": [
      "37.77777777777778\n",
      "32.22222222222222\n",
      "26.666666666666664\n",
      "43.333333333333336\n",
      "21.11111111111111\n"
     ]
    }
   ],
   "source": [
    "fahrenheit_list = [100,90,80,110,70]\n",
    "for fahrenheit in fahrenheit_list:\n",
    "    fahrenheit_TO_Celcius = ((fahrenheit-32)/1.8)\n",
    "    print(fahrenheit_TO_Celcius)"
   ]
  },
  {
   "cell_type": "code",
   "execution_count": null,
   "metadata": {},
   "outputs": [],
   "source": [
    "# Q8, Merge Strings\n",
    "# Lily, Ashley, Christine, and Melody are sisters, their last name is Redfield\n",
    "# Using 'for loop' to print out their full names (format \"Fist_Name,Last_Name\")"
   ]
  },
  {
   "cell_type": "code",
   "execution_count": 48,
   "metadata": {},
   "outputs": [
    {
     "name": "stdout",
     "output_type": "stream",
     "text": [
      "Lily Redfield\n",
      "Ashley Redfield\n",
      "Christine Redfield\n",
      "Melody Redfield\n"
     ]
    }
   ],
   "source": [
    "fnames = ['Lily', 'Ashley', 'Christine','Melody']\n",
    "for fname in fnames:\n",
    "    print(fname,\"Redfield\")"
   ]
  },
  {
   "cell_type": "code",
   "execution_count": 41,
   "metadata": {},
   "outputs": [
    {
     "name": "stdout",
     "output_type": "stream",
     "text": [
      "Lily\n",
      "Ashley\n",
      "Christine\n",
      "Melody\n"
     ]
    }
   ],
   "source": [
    "def First_Name():\n",
    "    fnames = ['Lily', 'Ashley', 'Christine','Melody']\n",
    "    Last_Name(\"Redfield\")\n",
    "for name in fnames:\n",
    "  print(name) "
   ]
  },
  {
   "cell_type": "code",
   "execution_count": null,
   "metadata": {},
   "outputs": [],
   "source": [
    "# Q9, NDVI\n",
    "# Normalized Difference Vegetation Index (NDVI) uses the NIR and red channels in its formula. \n",
    "# e.g., ndvi = (nir-red)/(nir+red)\n",
    "# define and call a function to calculate NDVI\n",
    "# test with input nir = 0.4, red = 0.3"
   ]
  },
  {
   "cell_type": "code",
   "execution_count": 15,
   "metadata": {},
   "outputs": [
    {
     "data": {
      "text/plain": [
       "0.1428571428571429"
      ]
     },
     "execution_count": 15,
     "metadata": {},
     "output_type": "execute_result"
    }
   ],
   "source": [
    "def my_function():\n",
    "    nir = 0.4\n",
    "    red = 0.3\n",
    "    ndvi = (nir-red)/(nir+red)\n",
    "    return ndvi\n",
    "my_function()"
   ]
  },
  {
   "cell_type": "code",
   "execution_count": null,
   "metadata": {},
   "outputs": [],
   "source": [
    "# Q10, Euclidean distance (Two dimensions)\n",
    "# https://en.wikipedia.org/wiki/Euclidean_distance\n",
    "# write a function to calculate the euclidian disntance and find the distance between p1 (3,5) and p2 (6,14)\n",
    "# hint, you can use math.sqrt(), how to import that?\n",
    "# note, for square root, first import math and then use math.sqrt(value)"
   ]
  },
  {
   "cell_type": "code",
   "execution_count": 55,
   "metadata": {},
   "outputs": [
    {
     "name": "stdout",
     "output_type": "stream",
     "text": [
      "12.0\n"
     ]
    }
   ],
   "source": [
    "import math\n",
    "def my_function():\n",
    "    p1=[3,5]\n",
    "    p2=[6,14]\n",
    "    \n",
    "    \n",
    "eudistance = math.sqrt((6-3)^2) + ((14-5)^2)\n",
    "\n",
    "print(eudistance)\n",
    "\n",
    "my_function()"
   ]
  },
  {
   "cell_type": "code",
   "execution_count": null,
   "metadata": {},
   "outputs": [],
   "source": []
  }
 ],
 "metadata": {
  "kernelspec": {
   "display_name": "Python 3",
   "language": "python",
   "name": "python3"
  },
  "language_info": {
   "codemirror_mode": {
    "name": "ipython",
    "version": 3
   },
   "file_extension": ".py",
   "mimetype": "text/x-python",
   "name": "python",
   "nbconvert_exporter": "python",
   "pygments_lexer": "ipython3",
   "version": "3.5.4"
  }
 },
 "nbformat": 4,
 "nbformat_minor": 2
}
