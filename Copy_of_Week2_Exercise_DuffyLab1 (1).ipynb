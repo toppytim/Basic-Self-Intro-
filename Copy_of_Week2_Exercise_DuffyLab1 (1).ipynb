{
  "nbformat": 4,
  "nbformat_minor": 0,
  "metadata": {
    "kernelspec": {
      "name": "python3",
      "display_name": "Python 3",
      "language": "python"
    },
    "language_info": {
      "mimetype": "text/x-python",
      "nbconvert_exporter": "python",
      "name": "python",
      "file_extension": ".py",
      "version": "3.5.4",
      "pygments_lexer": "ipython3",
      "codemirror_mode": {
        "version": 3,
        "name": "ipython"
      }
    },
    "colab": {
      "name": "Copy of Week2_Exercise_DuffyLab1.ipynb",
      "provenance": [],
      "collapsed_sections": []
    }
  },
  "cells": [
    {
      "cell_type": "code",
      "metadata": {
        "trusted": true,
        "id": "LhyZmxk85i-0",
        "colab_type": "code",
        "colab": {}
      },
      "source": [
        "b#Q1, if length l = 10, width w = 5, calculate the area of rectangle"
      ],
      "execution_count": 0,
      "outputs": []
    },
    {
      "cell_type": "code",
      "metadata": {
        "trusted": true,
        "id": "TVrmPCmb5i-5",
        "colab_type": "code",
        "colab": {}
      },
      "source": [
        "area = 10*5\n",
        "print(area)"
      ],
      "execution_count": 0,
      "outputs": []
    },
    {
      "cell_type": "code",
      "metadata": {
        "trusted": true,
        "id": "qKgL3QkO5i-8",
        "colab_type": "code",
        "colab": {}
      },
      "source": [
        "#Q2, if r = 15cm, write an euqation to calculate the area of circle, hint: https://www.includehelp.com/python/calculate-square-of-a-given-number.aspx"
      ],
      "execution_count": 0,
      "outputs": []
    },
    {
      "cell_type": "code",
      "metadata": {
        "trusted": true,
        "id": "GDXmQgc_5i_A",
        "colab_type": "code",
        "outputId": "b220c9b9-7ce9-4fb2-d4eb-baf725271857",
        "colab": {
          "base_uri": "https://localhost:8080/",
          "height": 34
        }
      },
      "source": [
        "import math\n",
        "r =15\n",
        "area = math.pi*r*r\n",
        "print(area)"
      ],
      "execution_count": 0,
      "outputs": [
        {
          "output_type": "stream",
          "text": [
            "706.8583470577034\n"
          ],
          "name": "stdout"
        }
      ]
    },
    {
      "cell_type": "code",
      "metadata": {
        "trusted": true,
        "id": "sroP6lOV5i_E",
        "colab_type": "code",
        "colab": {}
      },
      "source": [
        "#Q3，a = \"helloworld.java\", print the extension (format) of file a"
      ],
      "execution_count": 0,
      "outputs": []
    },
    {
      "cell_type": "code",
      "metadata": {
        "trusted": true,
        "id": "epIep1IC5i_I",
        "colab_type": "code",
        "outputId": "b8bf01fa-acf8-46bb-b872-9c1d1d2e3aa3",
        "colab": {
          "base_uri": "https://localhost:8080/",
          "height": 52
        }
      },
      "source": [
        "a = \"helloworld.java\"\n",
        "print(a)\n",
        "print(\"I do not know what extension format of a file means, Tony\")"
      ],
      "execution_count": 0,
      "outputs": [
        {
          "output_type": "stream",
          "text": [
            "helloworld.java\n",
            "I do not know what extension format of a file means, Tony\n"
          ],
          "name": "stdout"
        }
      ]
    },
    {
      "cell_type": "code",
      "metadata": {
        "trusted": true,
        "id": "TdisnDMU5i_M",
        "colab_type": "code",
        "colab": {}
      },
      "source": [
        "#Q4,  color_list = [\"Red\",\"Green\",\"White\" ,\"Black\", \"Yellow\", \"Blue\"], how many  colors are in the list"
      ],
      "execution_count": 0,
      "outputs": []
    },
    {
      "cell_type": "code",
      "metadata": {
        "trusted": true,
        "id": "_VfWdegj5i_P",
        "colab_type": "code",
        "outputId": "93920f0f-e629-490c-a01e-3b86dab32d5b",
        "colab": {
          "base_uri": "https://localhost:8080/",
          "height": 238
        }
      },
      "source": [
        "color_list = [\"Red\",\"Green\",\"White\" ,\"Black\", \"Green\", \"White\"]\n",
        "print(color_list.count(\"White\"))\n",
        "print(color_list.count(\"Red\"))\n",
        "print(color_list.count(\"Green\"))\n",
        "print(color_list.count(\"Black\"))\n",
        "\n",
        "color_list = [\"Red\",\"Green\",\"White\" ,\"Black\", \"Green\", \"White\"]\n",
        "color_list= list(set(color_list))\n",
        "print=color_list\n",
        "\n",
        "print(len(color_list))\n",
        "\n",
        "print(\"Ultimately we would want to remove the duplicates fist then use the length function to determine how many colors there are in the list\")"
      ],
      "execution_count": 0,
      "outputs": [
        {
          "output_type": "error",
          "ename": "TypeError",
          "evalue": "ignored",
          "traceback": [
            "\u001b[0;31m---------------------------------------------------------------------------\u001b[0m",
            "\u001b[0;31mTypeError\u001b[0m                                 Traceback (most recent call last)",
            "\u001b[0;32m<ipython-input-108-40edd6fc6621>\u001b[0m in \u001b[0;36m<module>\u001b[0;34m()\u001b[0m\n\u001b[1;32m      1\u001b[0m \u001b[0mcolor_list\u001b[0m \u001b[0;34m=\u001b[0m \u001b[0;34m[\u001b[0m\u001b[0;34m\"Red\"\u001b[0m\u001b[0;34m,\u001b[0m\u001b[0;34m\"Green\"\u001b[0m\u001b[0;34m,\u001b[0m\u001b[0;34m\"White\"\u001b[0m \u001b[0;34m,\u001b[0m\u001b[0;34m\"Black\"\u001b[0m\u001b[0;34m,\u001b[0m \u001b[0;34m\"Green\"\u001b[0m\u001b[0;34m,\u001b[0m \u001b[0;34m\"White\"\u001b[0m\u001b[0;34m]\u001b[0m\u001b[0;34m\u001b[0m\u001b[0;34m\u001b[0m\u001b[0m\n\u001b[0;32m----> 2\u001b[0;31m \u001b[0mprint\u001b[0m\u001b[0;34m(\u001b[0m\u001b[0mcolor_list\u001b[0m\u001b[0;34m.\u001b[0m\u001b[0mcount\u001b[0m\u001b[0;34m(\u001b[0m\u001b[0;34m\"White\"\u001b[0m\u001b[0;34m)\u001b[0m\u001b[0;34m)\u001b[0m\u001b[0;34m\u001b[0m\u001b[0;34m\u001b[0m\u001b[0m\n\u001b[0m\u001b[1;32m      3\u001b[0m \u001b[0mprint\u001b[0m\u001b[0;34m(\u001b[0m\u001b[0mcolor_list\u001b[0m\u001b[0;34m.\u001b[0m\u001b[0mcount\u001b[0m\u001b[0;34m(\u001b[0m\u001b[0;34m\"Red\"\u001b[0m\u001b[0;34m)\u001b[0m\u001b[0;34m)\u001b[0m\u001b[0;34m\u001b[0m\u001b[0;34m\u001b[0m\u001b[0m\n\u001b[1;32m      4\u001b[0m \u001b[0mprint\u001b[0m\u001b[0;34m(\u001b[0m\u001b[0mcolor_list\u001b[0m\u001b[0;34m.\u001b[0m\u001b[0mcount\u001b[0m\u001b[0;34m(\u001b[0m\u001b[0;34m\"Green\"\u001b[0m\u001b[0;34m)\u001b[0m\u001b[0;34m)\u001b[0m\u001b[0;34m\u001b[0m\u001b[0;34m\u001b[0m\u001b[0m\n\u001b[1;32m      5\u001b[0m \u001b[0mprint\u001b[0m\u001b[0;34m(\u001b[0m\u001b[0mcolor_list\u001b[0m\u001b[0;34m.\u001b[0m\u001b[0mcount\u001b[0m\u001b[0;34m(\u001b[0m\u001b[0;34m\"Black\"\u001b[0m\u001b[0;34m)\u001b[0m\u001b[0;34m)\u001b[0m\u001b[0;34m\u001b[0m\u001b[0;34m\u001b[0m\u001b[0m\n",
            "\u001b[0;31mTypeError\u001b[0m: 'list' object is not callable"
          ]
        }
      ]
    },
    {
      "cell_type": "code",
      "metadata": {
        "trusted": true,
        "id": "5IOh70lv5i_Y",
        "colab_type": "code",
        "colab": {}
      },
      "source": [
        "#Q5, variable a = 21.123213132 and b = \"foreEverrrrrrr\", how to produce output \" FOREEVER 21\" using variable a and b"
      ],
      "execution_count": 0,
      "outputs": []
    },
    {
      "cell_type": "code",
      "metadata": {
        "trusted": true,
        "id": "8e2VdMN65i_b",
        "colab_type": "code",
        "outputId": "10e6dd72-4ad7-42af-8e71-9b85783aabd7",
        "colab": {
          "base_uri": "https://localhost:8080/",
          "height": 52
        }
      },
      "source": [
        "def both_words():\n",
        "  b = \"foreEverrrrrrr\"\n",
        "  bb=b[0:8]\n",
        "  print(bb.upper())\n",
        "both_words()\n",
        "\n",
        "def both_words_again():\n",
        "  a = \"21.123213132\"\n",
        "  aa=a[0:2]\n",
        "  print(aa)\n",
        "both_words_again()\n",
        "\n"
      ],
      "execution_count": 0,
      "outputs": [
        {
          "output_type": "stream",
          "text": [
            "FOREEVER\n",
            "21\n"
          ],
          "name": "stdout"
        }
      ]
    },
    {
      "cell_type": "code",
      "metadata": {
        "trusted": true,
        "id": "-kqPZrB95i_i",
        "colab_type": "code",
        "colab": {}
      },
      "source": [
        "#Q6, txt = \"This cookie is tasty\", how to replace \"tasty\" with \"aweful\"? You need to develop 2 different methods"
      ],
      "execution_count": 0,
      "outputs": []
    },
    {
      "cell_type": "code",
      "metadata": {
        "trusted": true,
        "id": "UZMLRn6D5i_m",
        "colab_type": "code",
        "outputId": "2db22a15-292d-40dc-ee4b-f43f625841e5",
        "colab": {
          "base_uri": "https://localhost:8080/",
          "height": 52
        }
      },
      "source": [
        "txt = \"This cookie is tasty\"\n",
        "a = \"tasty\"\n",
        "print(txt.replace(\"tasty\",\"awful\"))\n",
        "txt2 = txt[:-5]\n",
        "print(txt2+'awful')"
      ],
      "execution_count": 0,
      "outputs": [
        {
          "output_type": "stream",
          "text": [
            "This cookie is awful\n",
            "This cookie is awful\n"
          ],
          "name": "stdout"
        }
      ]
    },
    {
      "cell_type": "code",
      "metadata": {
        "trusted": true,
        "id": "gqE9gBoA5i_p",
        "colab_type": "code",
        "colab": {}
      },
      "source": [
        "#Q7, a = \"14\", b = 3, show 14 is greated than 3 using both variable a and b,(print out result is True)"
      ],
      "execution_count": 0,
      "outputs": []
    },
    {
      "cell_type": "code",
      "metadata": {
        "trusted": true,
        "id": "HctaymE15i_s",
        "colab_type": "code",
        "outputId": "b1856dca-0ea1-4942-8d1d-a19f3b200f0c",
        "colab": {
          "base_uri": "https://localhost:8080/",
          "height": 34
        }
      },
      "source": [
        "a = 14\n",
        "b = 3\n",
        "print(a >b)"
      ],
      "execution_count": 0,
      "outputs": [
        {
          "output_type": "stream",
          "text": [
            "True\n"
          ],
          "name": "stdout"
        }
      ]
    },
    {
      "cell_type": "code",
      "metadata": {
        "trusted": true,
        "id": "WXMPwvwK5i_1",
        "colab_type": "code",
        "colab": {}
      },
      "source": [
        "# Q8, create and print a list [1,3,5,7,9,2,4,6,8,10] in 3 steps"
      ],
      "execution_count": 0,
      "outputs": []
    },
    {
      "cell_type": "code",
      "metadata": {
        "trusted": true,
        "id": "-XbKO4rO5i_4",
        "colab_type": "code",
        "colab": {}
      },
      "source": [
        "a = 1\n",
        "b = 10\n",
        "c = 2\n",
        "list1 = list(range(a,b,2))\n",
        "print(list1)"
      ],
      "execution_count": 0,
      "outputs": []
    },
    {
      "cell_type": "code",
      "metadata": {
        "trusted": true,
        "colab_type": "code",
        "id": "9eUa6DIZ6lFv",
        "colab": {}
      },
      "source": [
        "\n",
        "d=2\n",
        "e=12\n",
        "f=2\n",
        "list2 = list(range(d,e,2))\n",
        "print(list2)\n"
      ],
      "execution_count": 0,
      "outputs": []
    },
    {
      "cell_type": "code",
      "metadata": {
        "id": "ObpbvibV6nnw",
        "colab_type": "code",
        "outputId": "53d97387-c58d-43dc-b634-3f43bab5cdba",
        "colab": {
          "base_uri": "https://localhost:8080/",
          "height": 167
        }
      },
      "source": [
        "print(list1+list2)\n",
        "\n",
        "print('define list one, define list 2, then combine the list ')\n"
      ],
      "execution_count": 0,
      "outputs": [
        {
          "output_type": "error",
          "ename": "NameError",
          "evalue": "ignored",
          "traceback": [
            "\u001b[0;31m---------------------------------------------------------------------------\u001b[0m",
            "\u001b[0;31mNameError\u001b[0m                                 Traceback (most recent call last)",
            "\u001b[0;32m<ipython-input-109-62f17aea0f62>\u001b[0m in \u001b[0;36m<module>\u001b[0;34m()\u001b[0m\n\u001b[0;32m----> 1\u001b[0;31m \u001b[0mprint\u001b[0m\u001b[0;34m(\u001b[0m\u001b[0mlist1\u001b[0m\u001b[0;34m+\u001b[0m\u001b[0mlist2\u001b[0m\u001b[0;34m)\u001b[0m\u001b[0;34m\u001b[0m\u001b[0;34m\u001b[0m\u001b[0m\n\u001b[0m",
            "\u001b[0;31mNameError\u001b[0m: name 'list1' is not defined"
          ]
        }
      ]
    },
    {
      "cell_type": "code",
      "metadata": {
        "trusted": true,
        "id": "2ZYynaTO5jAG",
        "colab_type": "code",
        "colab": {}
      },
      "source": [
        "#Q9, Split the sentence \"Stay Hungry. Stay Foolish.\" into [\"Stay\",\"Hungry\",\"Stay\",\"Foolish\"]"
      ],
      "execution_count": 0,
      "outputs": []
    },
    {
      "cell_type": "code",
      "metadata": {
        "trusted": true,
        "id": "g8maXs1U5jAJ",
        "colab_type": "code",
        "outputId": "89149d01-0b3f-4df6-b22b-889eba539e60",
        "colab": {
          "base_uri": "https://localhost:8080/",
          "height": 34
        }
      },
      "source": [
        "text = \"Stay Hungry Stay Foolish\" \n",
        "x = text.split(\" \")\n",
        "print(x)"
      ],
      "execution_count": 0,
      "outputs": [
        {
          "output_type": "stream",
          "text": [
            "['Stay', 'Hungry', 'Stay', 'Foolish']\n"
          ],
          "name": "stdout"
        }
      ]
    },
    {
      "cell_type": "code",
      "metadata": {
        "trusted": true,
        "id": "CxTOdMrr5jAO",
        "colab_type": "code",
        "colab": {}
      },
      "source": [
        "# Q10, Josh has prepared a list of items he is going to buy this weekend,item = [\"cheese\",\"soup\",\"flower\"]\n",
        "# add two more items to the list"
      ],
      "execution_count": 0,
      "outputs": []
    },
    {
      "cell_type": "code",
      "metadata": {
        "trusted": true,
        "id": "tdiw8qut5jAU",
        "colab_type": "code",
        "outputId": "9e73cc4f-27d7-4bf8-c1c9-c0297d719373",
        "colab": {
          "base_uri": "https://localhost:8080/",
          "height": 34
        }
      },
      "source": [
        "items = [\"cheese\",\"soup\",\"flower\",\"lotion\", \"sanitizer\"]\n",
        "print(items)"
      ],
      "execution_count": 0,
      "outputs": [
        {
          "output_type": "stream",
          "text": [
            "['cheese', 'soup', 'flower', 'lotion', 'sanitizer']\n"
          ],
          "name": "stdout"
        }
      ]
    },
    {
      "cell_type": "code",
      "metadata": {
        "trusted": true,
        "id": "XN6KBJHS5jAX",
        "colab_type": "code",
        "colab": {}
      },
      "source": [
        "#Q11, what is the output for a*3 if a = [1,2,3]"
      ],
      "execution_count": 0,
      "outputs": []
    },
    {
      "cell_type": "code",
      "metadata": {
        "trusted": true,
        "id": "HqGrkZ7K5jAZ",
        "colab_type": "code",
        "outputId": "1bfaa202-197b-4317-9ec4-8aa55f500d48",
        "colab": {
          "base_uri": "https://localhost:8080/",
          "height": 34
        }
      },
      "source": [
        "a = [1,2,3]\n",
        "print(a*3)"
      ],
      "execution_count": 0,
      "outputs": [
        {
          "output_type": "stream",
          "text": [
            "[1, 2, 3, 1, 2, 3, 1, 2, 3]\n"
          ],
          "name": "stdout"
        }
      ]
    },
    {
      "cell_type": "code",
      "metadata": {
        "trusted": true,
        "id": "j_kw3M7L5jAc",
        "colab_type": "code",
        "outputId": "e6899119-5c60-4c0b-b8e7-47b403fa84dd",
        "colab": {
          "base_uri": "https://localhost:8080/",
          "height": 34
        }
      },
      "source": [
        "#Q12, what is the output for a*3 if a = [\"1\",\"2\",\"3\"] \n",
        "a = [\"1\",\"2\",\"3\"] \n",
        "print(a*3)"
      ],
      "execution_count": 0,
      "outputs": [
        {
          "output_type": "stream",
          "text": [
            "['1', '2', '3', '1', '2', '3', '1', '2', '3']\n"
          ],
          "name": "stdout"
        }
      ]
    },
    {
      "cell_type": "code",
      "metadata": {
        "trusted": true,
        "id": "QKYV_NDc5jAg",
        "colab_type": "code",
        "outputId": "8a111353-c671-43a9-acf1-331386aaab6a",
        "colab": {
          "base_uri": "https://localhost:8080/",
          "height": 34
        }
      },
      "source": [
        "#Q13, how to conervert [1,2,3] into [3,6,9]\n",
        "a = [1,2,3]\n",
        "a[0] = 3\n",
        "a[1] = 6\n",
        "a[2] = 9\n",
        "print(a)"
      ],
      "execution_count": 0,
      "outputs": [
        {
          "output_type": "stream",
          "text": [
            "[3, 6, 9]\n"
          ],
          "name": "stdout"
        }
      ]
    },
    {
      "cell_type": "code",
      "metadata": {
        "trusted": true,
        "id": "U7k_wSB_5jAk",
        "colab_type": "code",
        "colab": {}
      },
      "source": [
        "#Q14, if a = range(1,10,1), find the type of a"
      ],
      "execution_count": 0,
      "outputs": []
    },
    {
      "cell_type": "code",
      "metadata": {
        "id": "Ttf938kQmm2I",
        "colab_type": "code",
        "outputId": "e9fefae9-f655-4c09-c0f8-f7057b57f3b6",
        "colab": {
          "base_uri": "https://localhost:8080/",
          "height": 52
        }
      },
      "source": [
        "a = range(1,10,1)\n",
        "print(a)\n",
        "list(range(1,10))"
      ],
      "execution_count": 0,
      "outputs": [
        {
          "output_type": "stream",
          "text": [
            "range(1, 10)\n"
          ],
          "name": "stdout"
        },
        {
          "output_type": "execute_result",
          "data": {
            "text/plain": [
              "[1, 2, 3, 4, 5, 6, 7, 8, 9]"
            ]
          },
          "metadata": {
            "tags": []
          },
          "execution_count": 95
        }
      ]
    },
    {
      "cell_type": "code",
      "metadata": {
        "trusted": true,
        "id": "k6yQdNFr5jAp",
        "colab_type": "code",
        "colab": {}
      },
      "source": [
        "#Q15, for a given list of radius r = [1,2,3,4,5,6], use for or while loop to produce a new list of circle areas"
      ],
      "execution_count": 0,
      "outputs": []
    },
    {
      "cell_type": "code",
      "metadata": {
        "id": "-8WKdiObeYAZ",
        "colab_type": "code",
        "outputId": "71dabdb0-3b28-4d83-e88d-4b1392416839",
        "colab": {
          "base_uri": "https://localhost:8080/",
          "height": 123
        }
      },
      "source": [
        "import math\n",
        "\n",
        "def areas():\n",
        "    r = [1,2,3,4,5,6]\n",
        "    for i in r:\n",
        "        area = math.pi*i*i\n",
        "        print(area)\n",
        "areas()"
      ],
      "execution_count": 0,
      "outputs": [
        {
          "output_type": "stream",
          "text": [
            "3.141592653589793\n",
            "12.566370614359172\n",
            "28.274333882308138\n",
            "50.26548245743669\n",
            "78.53981633974483\n",
            "113.09733552923255\n"
          ],
          "name": "stdout"
        }
      ]
    },
    {
      "cell_type": "code",
      "metadata": {
        "trusted": true,
        "id": "qtajWwI75jAs",
        "colab_type": "code",
        "colab": {}
      },
      "source": [
        "#Q16, Write a Python program to construct the following pattern, using a nested for loop (for loop within for loop).\n",
        "##\n",
        "####\n",
        "######\n",
        "########\n",
        "##########\n",
        "# hint -> try print('@'*10)"
      ],
      "execution_count": 0,
      "outputs": []
    },
    {
      "cell_type": "code",
      "metadata": {
        "id": "iz-EHBCMg9n6",
        "colab_type": "code",
        "outputId": "32b300fa-68fd-4589-9550-672e5cc26a1a",
        "colab": {
          "base_uri": "https://localhost:8080/",
          "height": 176
        }
      },
      "source": [
        "def loop():\n",
        "    for i in range(1,10):\n",
        "        for j in range(i*2):\n",
        "          print(\"#\", end=\"\")\n",
        "        print(\"\")\n",
        "\n",
        "loop()"
      ],
      "execution_count": 0,
      "outputs": [
        {
          "output_type": "stream",
          "text": [
            "##\n",
            "####\n",
            "######\n",
            "########\n",
            "##########\n",
            "############\n",
            "##############\n",
            "################\n",
            "##################\n"
          ],
          "name": "stdout"
        }
      ]
    }
  ]
}